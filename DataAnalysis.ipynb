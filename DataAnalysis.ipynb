{
 "cells": [
  {
   "cell_type": "code",
   "execution_count": 2,
   "metadata": {},
   "outputs": [],
   "source": [
    "##FinalGaiaAnalysis\n",
    "import numpy as np\n",
    "import math\n",
    "from astropy.io import fits\n",
    "import matplotlib.pyplot as plt\n",
    "import scipy, pylab\n",
    "import matplotlib.patches as mpatches"
   ]
  },
  {
   "cell_type": "code",
   "execution_count": 3,
   "metadata": {},
   "outputs": [],
   "source": [
    "gaiaData = fits.getdata(\"1533756965904O-result.fits\")"
   ]
  },
  {
   "cell_type": "code",
   "execution_count": null,
   "metadata": {},
   "outputs": [],
   "source": []
  },
  {
   "cell_type": "code",
   "execution_count": 4,
   "metadata": {},
   "outputs": [
    {
     "name": "stderr",
     "output_type": "stream",
     "text": [
      "C:\\Program Files (x86)\\Microsoft Visual Studio\\Shared\\Anaconda3_64\\lib\\site-packages\\ipykernel_launcher.py:1: RuntimeWarning: invalid value encountered in greater\n",
      "  \"\"\"Entry point for launching an IPython kernel.\n"
     ]
    },
    {
     "name": "stdout",
     "output_type": "stream",
     "text": [
      "4094401\n",
      "4089460\n",
      "There are 4941 stars resolved by Gaia and not Atlas\n"
     ]
    }
   ],
   "source": [
    "gaiaData = gaiaData[np.where(gaiaData[\"parallax\"] > 0)]\n",
    "print(len(gaiaData))\n",
    "print(len(np.unique(gaiaData[\"objid\"])))\n",
    "unresolvestars = len(gaiaData)-len(np.unique(gaiaData[\"objid\"]))\n",
    "print(\"There are \" + str(unresolvestars) + \" stars resolved by Gaia and not Atlas\")"
   ]
  },
  {
   "cell_type": "code",
   "execution_count": 5,
   "metadata": {},
   "outputs": [],
   "source": [
    "gaiaDist = 1/(gaiaData[\"parallax\"][np.where(gaiaData[\"parallax\"])]/1000)"
   ]
  },
  {
   "cell_type": "code",
   "execution_count": 18,
   "metadata": {},
   "outputs": [],
   "source": [
    "##absoluteGBand = gaiaData[\"phot_g_mean_mag\"][0] - 5 * math.log10(gaiaDist[0]/10)"
   ]
  },
  {
   "cell_type": "code",
   "execution_count": 6,
   "metadata": {},
   "outputs": [],
   "source": [
    "absoluteGBand = gaiaData[\"phot_g_mean_mag\"] - (5 * np.log10(gaiaDist/10))"
   ]
  },
  {
   "cell_type": "code",
   "execution_count": 7,
   "metadata": {},
   "outputs": [
    {
     "name": "stdout",
     "output_type": "stream",
     "text": [
      "1573541\n"
     ]
    }
   ],
   "source": [
    "nearby = np.where(gaiaData[\"parallax\"] > 10)\n",
    "highsnr = np.where(gaiaData[\"parallax_over_error\"] > 15)\n",
    "tensnr = np.where(gaiaData[\"parallax_over_error\"] > 10)\n",
    "print(len(tensnr[0]))\n",
    "eightsnr = np.where(gaiaData[\"parallax_over_error\"] > 8)"
   ]
  },
  {
   "cell_type": "code",
   "execution_count": 8,
   "metadata": {},
   "outputs": [],
   "source": [
    "VariableStarsID = open('VariableStarsID.txt')\n",
    "data = VariableStarsID.readlines()\n",
    "VariableStarData = []\n",
    "for line in data:\n",
    "    VariableStarData.append(np.asarray(line.split(\"-\")[0:2]))\n",
    "VariableStarData = np.asarray(VariableStarData)"
   ]
  },
  {
   "cell_type": "code",
   "execution_count": 9,
   "metadata": {},
   "outputs": [],
   "source": [
    "indexes = []\n",
    "for i in VariableStarData:\n",
    "    indexes.append(np.where(gaiaData[\"objid\"] == int(i[1]))[0])\n"
   ]
  },
  {
   "cell_type": "code",
   "execution_count": 10,
   "metadata": {},
   "outputs": [],
   "source": [
    "##don't use\n",
    "vStarsData = []\n",
    "for i in range(0,len(indexes)):\n",
    "    if (indexes[i].size != 0):\n",
    "        array = (VariableStarData[i][0], VariableStarData[i][1], indexes[i][0])\n",
    "        vStarsData.append(np.asarray(array))\n",
    "vStarsData = np.asarray(vStarsData)\n",
    "RRLyrae = np.asarray(vStarsData[0:12])\n",
    "Cyg =vStarsData[12]\n",
    "##print((Cyg))\n",
    "Mira = vStarsData[13]\n",
    "##print((Mira))\n",
    "CV = vStarsData[14:len(vStarsData)]\n",
    "##print((CV))\n"
   ]
  },
  {
   "cell_type": "code",
   "execution_count": 11,
   "metadata": {},
   "outputs": [],
   "source": [
    "vStarsData = []\n",
    "for i in range(0,len(indexes)):\n",
    "    if (indexes[i].size != 0):\n",
    "        array = (VariableStarData[i][0], VariableStarData[i][1], indexes[i][0])\n",
    "        vStarsData.append(np.asarray(array))\n",
    "vStarsData = np.asarray(vStarsData)\n",
    "uniqueTypes = np.unique(vStarsData[:,0])"
   ]
  },
  {
   "cell_type": "code",
   "execution_count": 12,
   "metadata": {},
   "outputs": [],
   "source": [
    "colors = [\"blue\", \"green\", \"yellow\", \"orange\", \"violet\", \"pink\", \"cyan\", \"red\", \"purple\"]"
   ]
  },
  {
   "cell_type": "code",
   "execution_count": 13,
   "metadata": {},
   "outputs": [],
   "source": [
    "idArray = []\n",
    "for i in uniqueTypes:\n",
    "    indices = vStarsData[:,2][np.where(i == vStarsData[:,0])]\n",
    "    idArray.append([i, indices])"
   ]
  },
  {
   "cell_type": "code",
   "execution_count": 14,
   "metadata": {},
   "outputs": [
    {
     "name": "stdout",
     "output_type": "stream",
     "text": [
      "[['Cataclysmic Variable', array(['3470176', '195400', '195400', '3123041', '3898550', '3949340'],\n",
      "      dtype='<U25')], ['Cephied', array(['911851', '915689', '1144285', '1336855', '1342227', '3123688',\n",
      "       '1652238', '109015', '1341726', '2097194', '3941904'], dtype='<U25')], ['Contact Eclipsing Binary', array(['1153801', '1154212', '3966399', '929196', '3966262', '454386',\n",
      "       '2615332'], dtype='<U25')], ['Detached Eclipsing Binary', array(['1355985', '926251', '2103747', '1355989', '1655383', '1355986'],\n",
      "      dtype='<U25')], ['Mira', array(['3453563', '2057637'], dtype='<U25')], ['RRLyrae', array(['2097009', '1342097', '2609994', '3950183', '1144914', '3148',\n",
      "       '915928', '3456939', '2096912', '3012', '3123837', '3950268'],\n",
      "      dtype='<U25')], ['Rotating', array(['455193', '2891678', '229915', '2891833', '1134984', '1830147',\n",
      "       '3449818', '97493', '455497', '2892672', '97127', '1829972',\n",
      "       '3449214', '1329377', '2892937'], dtype='<U25')]]\n"
     ]
    }
   ],
   "source": [
    "print(idArray)"
   ]
  },
  {
   "cell_type": "code",
   "execution_count": 50,
   "metadata": {},
   "outputs": [],
   "source": [
    "posterPlots = open(\"identifiedStarsID.txt\")\n",
    "posterData = posterPlots.readlines()\n",
    "posterID = []\n",
    "for i in posterData:\n",
    "    ids = i.split(\"-\")\n",
    "    posterID.append(ids[0])\n",
    "locations = []\n",
    "for i in posterID:\n",
    "    locations.append(np.where(gaiaData[\"objid\"] == int(i))[0])\n",
    "locations = np.asarray(locations)"
   ]
  },
  {
   "cell_type": "code",
   "execution_count": 75,
   "metadata": {},
   "outputs": [
    {
     "data": {
      "text/plain": [
       "<function matplotlib.pyplot.show>"
      ]
     },
     "execution_count": 75,
     "metadata": {},
     "output_type": "execute_result"
    },
    {
     "data": {
      "image/png": "[encoded data removed]",
      "text/plain": [
       "<matplotlib.figure.Figure at 0x2839c0412e8>"
      ]
     },
     "metadata": {},
     "output_type": "display_data"
    }
   ],
   "source": [
    "ax = pylab.subplot(111)\n",
    "xaxis = np.asarray(gaiaData[\"phot_bp_mean_mag\"]-gaiaData[\"phot_rp_mean_mag\"])\n",
    "plt.hexbin(xaxis[highsnr], absoluteGBand[highsnr], bins = \"log\", mincnt = 1, cmap = \"bone_r\")\n",
    "\n",
    "for i in locations:\n",
    "    x = i[0]\n",
    "    plt.scatter(xaxis[x.astype(\"int\")], absoluteGBand[x.astype(\"int\")], color = \"black\", s = 45)\n",
    "    plt.scatter(xaxis[x.astype(\"int\")], absoluteGBand[x.astype(\"int\")], color = \"white\", s = 40)\n",
    "\n",
    "counter = 0\n",
    "for i in idArray:\n",
    "    plt.scatter(xaxis[i[1].astype(\"int\")], absoluteGBand[i[1].astype(\"int\")], color = colors[counter], label = str(i[0]), s = 15)\n",
    "    ##patch = mpatches.Patch(color=colors[counter], label=i[0])\n",
    "    ##plt.legend(handles=[patch])   \n",
    "    \n",
    "    \n",
    "    counter += 1\n",
    "\n",
    "##plt.scatter(xaxis[RRLyrae[:,2].astype(\"int\")], absoluteGBand[RRLyrae[:,2].astype(\"int\")], color = \"blue\")\n",
    "\n",
    "##plt.scatter(xaxis[Cyg[2].astype(\"int\")], absoluteGBand[Cyg[2].astype(\"int\")], color = \"green\")\n",
    "\n",
    "##plt.scatter(xaxis[Mira[2].astype(\"int\")], absoluteGBand[Mira[2].astype(\"int\")], color = \"red\")\n",
    "\n",
    "##plt.scatter(xaxis[CV[:,2].astype(\"int\")], absoluteGBand[CV[:,2].astype(\"int\")], color = \"yellow\")\n",
    "\n",
    "plt.xlabel(\"Mean BP - Mean RP (Mag)\")\n",
    "plt.ylabel('G Band (Mag)')\n",
    "plt.gca().invert_yaxis()\n",
    "plt.savefig(r\"C:\\Users\\20xha\\Documents\\GitHub\\GaiaDataFinal\\HRDiagramAllGaia.png\", dpi = 4000, bbox_inches = 'tight' )\n",
    "plt.show\n",
    "##plt.legend(loc='upper center', bbox_to_anchor=(.4, 1.27),\n",
    "##          ncol=3, fancybox=True, shadow=True)\n",
    "##plt.savefig(r\"C:\\Users\\20xha\\Documents\\GitHub\\GaiaDataFinal\\HRDiagramAllGaia2.png\", dpi = 4000, bbox_inches = 'tight' )"
   ]
  },
  {
   "cell_type": "code",
   "execution_count": 50,
   "metadata": {},
   "outputs": [
    {
     "name": "stdout",
     "output_type": "stream",
     "text": [
      "66190995651609644\n",
      "67770499494009631\n",
      "68981643143109271\n",
      "71361669785303265\n",
      "74052095439100100\n",
      "75961900013200435\n",
      "78850825871108159\n",
      "81692245328301550\n",
      "84170608007406508\n",
      "84590137048708586\n",
      "85821198547302951\n",
      "112771557072503235\n",
      "160303256789904093\n",
      "66481174567006865\n",
      "76942176269107619\n",
      "76942176269107619\n",
      "93891736964500331\n",
      "102613099071507822\n",
      "171691551104701670\n",
      "99311113987008637\n",
      "108831071887005803\n",
      "109060755669408952\n",
      "120702626770801486\n",
      "126690986794508318\n",
      "129520885271406526\n",
      "72141027825406136\n",
      "72251894332406069\n",
      "72471148712800521\n",
      "72601350867205270\n",
      "73051576168706916\n",
      "74601354649407778\n",
      "74820933271101019\n",
      "69391169647704681\n",
      "73951184901409151\n",
      "86851084267306035\n",
      "88493500733103705\n",
      "90282867041404473\n",
      "119600977207208198\n",
      "136941928851107727\n",
      "150762994420703863\n",
      "158951450526608227\n",
      "168140649276799484\n",
      "174783270861000903\n",
      "66021671933000712\n",
      "66101686624900932\n",
      "66170951914207432\n",
      "69181404183805700\n",
      "69392143289808905\n",
      "71172134585007588\n",
      "72370926560204617\n",
      "72651256178205742\n",
      "75461016013606525\n",
      "76440706053209677\n",
      "77610876202603910\n",
      "78440981993109785\n",
      "80792095675901715\n",
      "84181094735106912\n",
      "84331249862804273\n",
      "68201214549005992\n"
     ]
    }
   ],
   "source": [
    "import csv\n",
    "with open('GaiaIDs.csv', 'w', newline='') as csvfile:\n",
    "    spamwriter = csv.writer(csvfile, delimiter=' ', quotechar='|', quoting=csv.QUOTE_MINIMAL)\n",
    "    spamwriter.writerow([\"ObjID\"])\n",
    "    for row in vStarsData:\n",
    "        spamwriter.writerow([str(row[1])])\n",
    "        print(row[1])"
   ]
  },
  {
   "cell_type": "code",
   "execution_count": null,
   "metadata": {},
   "outputs": [],
   "source": []
  },
  {
   "cell_type": "code",
   "execution_count": null,
   "metadata": {},
   "outputs": [],
   "source": []
  }
 ],
 "metadata": {
  "kernelspec": {
   "display_name": "Python 3",
   "language": "python",
   "name": "python3"
  },
  "language_info": {
   "codemirror_mode": {
    "name": "ipython",
    "version": 3
   },
   "file_extension": ".py",
   "mimetype": "text/x-python",
   "name": "python",
   "nbconvert_exporter": "python",
   "pygments_lexer": "ipython3",
   "version": "3.6.4"
  }
 },
 "nbformat": 4,
 "nbformat_minor": 2
}
